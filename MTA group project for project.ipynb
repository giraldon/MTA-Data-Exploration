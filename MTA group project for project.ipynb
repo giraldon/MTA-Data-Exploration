{
 "cells": [
  {
   "cell_type": "code",
   "execution_count": null,
   "metadata": {},
   "outputs": [],
   "source": []
  },
  {
   "cell_type": "code",
   "execution_count": 1,
   "metadata": {},
   "outputs": [],
   "source": [
    "from __future__ import print_function, division\n",
    "import pandas as pd\n",
    "import numpy as np\n",
    "import matplotlib.pyplot as plt\n",
    "import matplotlib\n",
    "%matplotlib inline\n",
    "import seaborn as sns\n",
    "import datetime\n",
    "sns.set()\n",
    "\n",
    "#source: MTA files from http://web.mta.info/developers/turnstile.html\n",
    "\n",
    "def get_data(week_nums):\n",
    "    url = \"http://web.mta.info/developers/data/nyct/turnstile/turnstile_{}.txt\"\n",
    "    dfs = []\n",
    "    for week_num in week_nums:\n",
    "        file_url = url.format(week_num)\n",
    "        dfs.append(pd.read_csv(file_url))\n",
    "    return pd.concat(dfs) # handles duplicate headers\n",
    "        \n",
    "week_nums = [180407, 180414, 180421, 180428, 180505, 180512, \n",
    "             180519, 180526, 180602, 180609, 180616, 180623, 180630]\n"
   ]
  },
  {
   "cell_type": "code",
   "execution_count": 2,
   "metadata": {},
   "outputs": [
    {
     "data": {
      "text/html": [
       "<div>\n",
       "<style scoped>\n",
       "    .dataframe tbody tr th:only-of-type {\n",
       "        vertical-align: middle;\n",
       "    }\n",
       "\n",
       "    .dataframe tbody tr th {\n",
       "        vertical-align: top;\n",
       "    }\n",
       "\n",
       "    .dataframe thead th {\n",
       "        text-align: right;\n",
       "    }\n",
       "</style>\n",
       "<table border=\"1\" class=\"dataframe\">\n",
       "  <thead>\n",
       "    <tr style=\"text-align: right;\">\n",
       "      <th></th>\n",
       "      <th>C/A</th>\n",
       "      <th>UNIT</th>\n",
       "      <th>SCP</th>\n",
       "      <th>STATION</th>\n",
       "      <th>LINENAME</th>\n",
       "      <th>DIVISION</th>\n",
       "      <th>DATE</th>\n",
       "      <th>TIME</th>\n",
       "      <th>DESC</th>\n",
       "      <th>ENTRIES</th>\n",
       "      <th>EXITS</th>\n",
       "    </tr>\n",
       "  </thead>\n",
       "  <tbody>\n",
       "    <tr>\n",
       "      <th>0</th>\n",
       "      <td>A002</td>\n",
       "      <td>R051</td>\n",
       "      <td>02-00-00</td>\n",
       "      <td>59 ST</td>\n",
       "      <td>NQR456W</td>\n",
       "      <td>BMT</td>\n",
       "      <td>03/31/2018</td>\n",
       "      <td>00:00:00</td>\n",
       "      <td>REGULAR</td>\n",
       "      <td>6566463</td>\n",
       "      <td>2224050</td>\n",
       "    </tr>\n",
       "    <tr>\n",
       "      <th>1</th>\n",
       "      <td>A002</td>\n",
       "      <td>R051</td>\n",
       "      <td>02-00-00</td>\n",
       "      <td>59 ST</td>\n",
       "      <td>NQR456W</td>\n",
       "      <td>BMT</td>\n",
       "      <td>03/31/2018</td>\n",
       "      <td>04:00:00</td>\n",
       "      <td>REGULAR</td>\n",
       "      <td>6566470</td>\n",
       "      <td>2224053</td>\n",
       "    </tr>\n",
       "    <tr>\n",
       "      <th>2</th>\n",
       "      <td>A002</td>\n",
       "      <td>R051</td>\n",
       "      <td>02-00-00</td>\n",
       "      <td>59 ST</td>\n",
       "      <td>NQR456W</td>\n",
       "      <td>BMT</td>\n",
       "      <td>03/31/2018</td>\n",
       "      <td>08:00:00</td>\n",
       "      <td>REGULAR</td>\n",
       "      <td>6566470</td>\n",
       "      <td>2224053</td>\n",
       "    </tr>\n",
       "    <tr>\n",
       "      <th>3</th>\n",
       "      <td>A002</td>\n",
       "      <td>R051</td>\n",
       "      <td>02-00-00</td>\n",
       "      <td>59 ST</td>\n",
       "      <td>NQR456W</td>\n",
       "      <td>BMT</td>\n",
       "      <td>03/31/2018</td>\n",
       "      <td>12:00:00</td>\n",
       "      <td>REGULAR</td>\n",
       "      <td>6566470</td>\n",
       "      <td>2224055</td>\n",
       "    </tr>\n",
       "    <tr>\n",
       "      <th>4</th>\n",
       "      <td>A002</td>\n",
       "      <td>R051</td>\n",
       "      <td>02-00-00</td>\n",
       "      <td>59 ST</td>\n",
       "      <td>NQR456W</td>\n",
       "      <td>BMT</td>\n",
       "      <td>03/31/2018</td>\n",
       "      <td>16:00:00</td>\n",
       "      <td>REGULAR</td>\n",
       "      <td>6566470</td>\n",
       "      <td>2224055</td>\n",
       "    </tr>\n",
       "  </tbody>\n",
       "</table>\n",
       "</div>"
      ],
      "text/plain": [
       "    C/A  UNIT       SCP STATION LINENAME DIVISION        DATE      TIME  \\\n",
       "0  A002  R051  02-00-00   59 ST  NQR456W      BMT  03/31/2018  00:00:00   \n",
       "1  A002  R051  02-00-00   59 ST  NQR456W      BMT  03/31/2018  04:00:00   \n",
       "2  A002  R051  02-00-00   59 ST  NQR456W      BMT  03/31/2018  08:00:00   \n",
       "3  A002  R051  02-00-00   59 ST  NQR456W      BMT  03/31/2018  12:00:00   \n",
       "4  A002  R051  02-00-00   59 ST  NQR456W      BMT  03/31/2018  16:00:00   \n",
       "\n",
       "      DESC  ENTRIES  \\\n",
       "0  REGULAR  6566463   \n",
       "1  REGULAR  6566470   \n",
       "2  REGULAR  6566470   \n",
       "3  REGULAR  6566470   \n",
       "4  REGULAR  6566470   \n",
       "\n",
       "   EXITS                                                                 \n",
       "0                                            2224050                     \n",
       "1                                            2224053                     \n",
       "2                                            2224053                     \n",
       "3                                            2224055                     \n",
       "4                                            2224055                     "
      ]
     },
     "execution_count": 2,
     "metadata": {},
     "output_type": "execute_result"
    }
   ],
   "source": [
    "turnstiles_df = get_data(week_nums)\n",
    "turnstiles_df.head()\n",
    "                 "
   ]
  },
  {
   "cell_type": "code",
   "execution_count": 3,
   "metadata": {},
   "outputs": [],
   "source": [
    "turnstiles_df.to_csv('merged.csv', index = False)"
   ]
  },
  {
   "cell_type": "code",
   "execution_count": 4,
   "metadata": {},
   "outputs": [],
   "source": [
    "turnstiles_df = pd.read_csv('merged.csv')"
   ]
  },
  {
   "cell_type": "code",
   "execution_count": 5,
   "metadata": {},
   "outputs": [],
   "source": [
    "mask = ((turnstiles_df['STATION'] == 'GRD CNTRL-42 ST') | (turnstiles_df['STATION'] == '42 ST-PORT AUTH') |  (turnstiles_df['STATION'] == 'TIMES SQ-42 ST'))\n",
    "\n",
    "turnstiles_df = turnstiles_df[mask]"
   ]
  },
  {
   "cell_type": "code",
   "execution_count": 6,
   "metadata": {},
   "outputs": [],
   "source": [
    "turnstiles_df = turnstiles_df.rename(columns=lambda x: x.strip()) #strip spaces\n",
    "#or: turnstiles_df.columns = [column.strip() for column in turnstiles_df.columns]"
   ]
  },
  {
   "cell_type": "code",
   "execution_count": 7,
   "metadata": {},
   "outputs": [],
   "source": [
    "#Create a new column that stores the date and time as a single pandas datetime object\n",
    "\n",
    "turnstiles_df['DateTime'] = turnstiles_df['DATE'] + turnstiles_df['TIME']\n",
    "turnstiles_df['DateTime'] = pd.to_datetime(turnstiles_df['DateTime'], format='%m/%d/%Y%H:%M:%S')"
   ]
  },
  {
   "cell_type": "code",
   "execution_count": 8,
   "metadata": {},
   "outputs": [],
   "source": [
    "turnstiles_df['DATE'] = pd.to_datetime(turnstiles_df['DATE'])\n",
    "turnstiles_df['weeknum'] = turnstiles_df['DATE'].dt.week\n",
    "turnstiles_df['daynum'] = turnstiles_df['DATE'].dt.dayofweek"
   ]
  },
  {
   "cell_type": "code",
   "execution_count": 9,
   "metadata": {},
   "outputs": [],
   "source": [
    "turnstiles_df = turnstiles_df.sort_values(by=['C/A','UNIT','SCP', 'STATION','DateTime'])\n",
    "turnstiles_df['Daily_Entries'] = turnstiles_df['ENTRIES'] - turnstiles_df['ENTRIES'].shift(1)\n",
    "turnstiles_df['Daily_Exits'] = turnstiles_df['EXITS'] - turnstiles_df['EXITS'].shift(1)"
   ]
  },
  {
   "cell_type": "code",
   "execution_count": 10,
   "metadata": {},
   "outputs": [],
   "source": [
    "turnstiles_df['Daily_Entries_abs'] = turnstiles_df['Daily_Entries'].abs()\n",
    "turnstiles_df['Daily_Exits_abs'] = turnstiles_df['Daily_Exits'].abs()"
   ]
  },
  {
   "cell_type": "code",
   "execution_count": 11,
   "metadata": {},
   "outputs": [
    {
     "name": "stderr",
     "output_type": "stream",
     "text": [
      "/anaconda3/lib/python3.5/site-packages/ipykernel_launcher.py:6: SettingWithCopyWarning: \n",
      "A value is trying to be set on a copy of a slice from a DataFrame\n",
      "\n",
      "See the caveats in the documentation: http://pandas.pydata.org/pandas-docs/stable/indexing.html#indexing-view-versus-copy\n",
      "  \n"
     ]
    }
   ],
   "source": [
    "#remove large numbers\n",
    "\n",
    "def replace(group):\n",
    "    upper = 100000\n",
    "    outliers = group > upper\n",
    "    group[outliers] = np.nan  \n",
    "    return group\n",
    "\n",
    "turnstiles_df['Daily_Entries_abs'] = turnstiles_df['Daily_Entries_abs'].transform(replace)\n",
    "turnstiles_df['Daily_Exits_abs'] = turnstiles_df['Daily_Exits_abs'].transform(replace)"
   ]
  },
  {
   "cell_type": "code",
   "execution_count": 12,
   "metadata": {},
   "outputs": [],
   "source": [
    "turnstiles_df['Daily_Entries_abs'].fillna(method='ffill', inplace=True)\n",
    "turnstiles_df['Daily_Exits_abs'].fillna(method='ffill', inplace=True)\n",
    "\n",
    "turnstiles_df['Daily_Entries_abs'].fillna(method='bfill', inplace=True)\n",
    "turnstiles_df['Daily_Exits_abs'].fillna(method='bfill', inplace=True)"
   ]
  },
  {
   "cell_type": "code",
   "execution_count": 13,
   "metadata": {},
   "outputs": [],
   "source": [
    "turnstiles_df['Combined_Traffic'] = turnstiles_df['Daily_Entries_abs'] + turnstiles_df['Daily_Exits_abs']"
   ]
  },
  {
   "cell_type": "code",
   "execution_count": 14,
   "metadata": {},
   "outputs": [],
   "source": [
    "turnstiles_df['Combined_Traffic'] = turnstiles_df['Combined_Traffic'].astype(int)"
   ]
  },
  {
   "cell_type": "code",
   "execution_count": 15,
   "metadata": {},
   "outputs": [],
   "source": [
    "timesquare_stations = \\\n",
    "            (turnstiles_df.groupby(['STATION','DATE','weeknum', 'daynum','TIME'])[['Combined_Traffic']]\n",
    "             .sum()\n",
    "             .reset_index())   #retains row label"
   ]
  },
  {
   "cell_type": "code",
   "execution_count": 16,
   "metadata": {},
   "outputs": [
    {
     "name": "stderr",
     "output_type": "stream",
     "text": [
      "/anaconda3/lib/python3.5/site-packages/ipykernel_launcher.py:6: SettingWithCopyWarning: \n",
      "A value is trying to be set on a copy of a slice from a DataFrame\n",
      "\n",
      "See the caveats in the documentation: http://pandas.pydata.org/pandas-docs/stable/indexing.html#indexing-view-versus-copy\n",
      "  \n"
     ]
    }
   ],
   "source": [
    "timesquare_stations['Combined_Traffic'] = timesquare_stations['Combined_Traffic'].transform(replace)\n",
    "timesquare_stations['Combined_Traffic'].fillna(method='ffill', inplace=True)\n",
    "timesquare_stations['Combined_Traffic'].fillna(method='bfill', inplace=True)"
   ]
  },
  {
   "cell_type": "code",
   "execution_count": 17,
   "metadata": {},
   "outputs": [],
   "source": [
    "timesquare_stations['Combined_Traffic'] = timesquare_stations['Combined_Traffic'].astype(int)"
   ]
  },
  {
   "cell_type": "code",
   "execution_count": 18,
   "metadata": {},
   "outputs": [],
   "source": [
    "top_stations = \\\n",
    "            (timesquare_stations.groupby(['STATION'])[['Combined_Traffic']]\n",
    "             .sum()\n",
    "             .reset_index())   #retains row label"
   ]
  },
  {
   "cell_type": "code",
   "execution_count": 19,
   "metadata": {},
   "outputs": [],
   "source": [
    "from bokeh.io import show, output_file\n",
    "from bokeh.models import ColumnDataSource\n",
    "from bokeh.palettes import Spectral6\n",
    "from bokeh.plotting import figure\n",
    "from bokeh.transform import factor_cmap\n",
    "from bokeh.models import NumeralTickFormatter\n",
    "\n",
    "output_file(\"topstations.html\")\n",
    "\n",
    "stations = top_stations['STATION'].tolist()\n",
    "\n",
    "p = figure(x_range=stations, plot_height=600, plot_width=1000, title=\"Traffic Volume at 42nd St Stations\",\n",
    "           toolbar_location=None, tools=\"\")\n",
    "\n",
    "\n",
    "p.vbar(x=stations, top=top_stations['Combined_Traffic'], width=0.5, fill_color='green', fill_alpha=0.5)\n",
    "\n",
    "p.xgrid.grid_line_color = None\n",
    "p.y_range.start = 0\n",
    "p.title.text_color='olive'\n",
    "p.title.text_font_size='20pt'\n",
    "p.title.text_font_style='bold'\n",
    "\n",
    "p.xaxis.axis_label='Station'\n",
    "p.xaxis.axis_label_text_color='olive'\n",
    "p.xaxis.axis_label_standoff=20\n",
    "p.xaxis.axis_label_text_font_size='15pt'\n",
    "p.xaxis.major_label_text_font_size='13pt'\n",
    "\n",
    "p.yaxis.axis_label='Number of Commuters'\n",
    "p.yaxis.axis_label_text_color='olive'\n",
    "p.yaxis.axis_label_standoff=20\n",
    "p.yaxis.axis_label_text_font_size='15pt'\n",
    "p.yaxis[0].formatter = NumeralTickFormatter(format=\"0.0a\")\n",
    "p.yaxis.major_label_text_font_size='13pt'\n",
    "\n",
    "show(p)\n"
   ]
  },
  {
   "cell_type": "code",
   "execution_count": 20,
   "metadata": {},
   "outputs": [],
   "source": [
    "grandcentral = timesquare_stations[timesquare_stations['STATION'] == 'GRD CNTRL-42 ST']"
   ]
  },
  {
   "cell_type": "code",
   "execution_count": 21,
   "metadata": {},
   "outputs": [],
   "source": [
    "grandcentral_by_day = \\\n",
    "            (grandcentral.groupby(['STATION','daynum'])[['Combined_Traffic']]\n",
    "             .sum()\n",
    "             .reset_index()) "
   ]
  },
  {
   "cell_type": "code",
   "execution_count": 22,
   "metadata": {},
   "outputs": [],
   "source": [
    "from bokeh.io import show, output_file\n",
    "from bokeh.models import ColumnDataSource\n",
    "from bokeh.palettes import Spectral6\n",
    "from bokeh.plotting import figure\n",
    "from bokeh.transform import factor_cmap\n",
    "from bokeh.models import NumeralTickFormatter\n",
    "\n",
    "output_file(\"grandcentral_byday.html\")\n",
    "\n",
    "days = grandcentral_by_day['daynum'].tolist()\n",
    "weekdays = dict([(0,'Monday'), (1,'Tuesday'), (2,'Wednesday'), (3,'Thursday'), (4,'Friday'), (5,'Saturday'), (6,'Sunday')])\n",
    "\n",
    "p = figure(plot_height=600, plot_width=1000, title=\"Traffic Volume at Grand Central\",\n",
    "           toolbar_location=None, tools=\"\")\n",
    "\n",
    "\n",
    "p.line(x=days, y=grandcentral_by_day['Combined_Traffic'], line_width=4, color='green')\n",
    "\n",
    "p.xgrid.grid_line_color = None\n",
    "p.y_range.start = 0\n",
    "p.title.text_color='olive'\n",
    "p.title.text_font_size='20pt'\n",
    "p.title.text_font_style='bold'\n",
    "\n",
    "p.xaxis.axis_label='Day of Week'\n",
    "p.xaxis.axis_label_text_color='olive'\n",
    "p.xaxis.axis_label_standoff=20\n",
    "p.xaxis.axis_label_text_font_size='15pt'\n",
    "p.xaxis.major_label_text_font_size='13pt'\n",
    "p.xaxis.major_label_overrides=weekdays\n",
    "\n",
    "p.yaxis.axis_label='Number of Commuters'\n",
    "p.yaxis.axis_label_text_color='olive'\n",
    "p.yaxis.axis_label_standoff=20\n",
    "p.yaxis.axis_label_text_font_size='15pt'\n",
    "p.yaxis[0].formatter = NumeralTickFormatter(format=\"0.0a\")\n",
    "p.yaxis.major_label_text_font_size='13pt'\n",
    "\n",
    "show(p)\n",
    "\n",
    "\n",
    "#fig, ax = plt.subplots()\n",
    "#for name, group in grandcentral_by_day.groupby(['weeknum']):\n",
    "#    group.plot('daynum', y='Combined_Traffic', ax=ax, label=name)\n"
   ]
  },
  {
   "cell_type": "code",
   "execution_count": 23,
   "metadata": {},
   "outputs": [],
   "source": [
    "grandcentral_weekdays = grandcentral[grandcentral['daynum'] != 5]\n",
    "grandcentral_weekdays = grandcentral_weekdays[grandcentral_weekdays['daynum'] != 6]"
   ]
  },
  {
   "cell_type": "code",
   "execution_count": 24,
   "metadata": {},
   "outputs": [],
   "source": [
    "grandcentral_weekdays['TIME'] = pd.to_datetime(grandcentral_weekdays['TIME'], format='%H:%M:%S').dt.hour"
   ]
  },
  {
   "cell_type": "code",
   "execution_count": 25,
   "metadata": {},
   "outputs": [],
   "source": [
    "bins = [-1, 3, 7, 11, 15, 19, 23]\n",
    "\n",
    "grandcentral_weekdays['TimeBucket'] = pd.cut(grandcentral_weekdays['TIME'], bins)"
   ]
  },
  {
   "cell_type": "code",
   "execution_count": 26,
   "metadata": {},
   "outputs": [],
   "source": [
    "grandcentral_weekdays['TimeBucket'] = grandcentral_weekdays['TimeBucket'].astype(str)"
   ]
  },
  {
   "cell_type": "code",
   "execution_count": 27,
   "metadata": {},
   "outputs": [],
   "source": [
    "timebucketindex = pd.DataFrame([['(-1, 3]',0], ['(3, 7]',1], ['(7, 11]',2], \\\n",
    "                    ['(11, 15]',3], ['(15, 19]',4], ['(19, 23]',5]], columns=['TimeBucket','TimeBucketIndex'])\n",
    "\n",
    "grandcentral_weekdays = pd.merge(grandcentral_weekdays,timebucketindex,on='TimeBucket')"
   ]
  },
  {
   "cell_type": "code",
   "execution_count": 28,
   "metadata": {},
   "outputs": [],
   "source": [
    "grandcentral_weekdays_bytime = \\\n",
    "            (grandcentral_weekdays.groupby(['STATION','TimeBucketIndex'])[['Combined_Traffic']]\n",
    "             .sum()\n",
    "             .reset_index()) "
   ]
  },
  {
   "cell_type": "code",
   "execution_count": 29,
   "metadata": {},
   "outputs": [],
   "source": [
    "from bokeh.io import show, output_file\n",
    "from bokeh.models import ColumnDataSource\n",
    "from bokeh.palettes import Spectral6\n",
    "from bokeh.plotting import figure\n",
    "from bokeh.transform import factor_cmap\n",
    "from bokeh.models import NumeralTickFormatter\n",
    "\n",
    "output_file(\"grandcentral_weekday_bytime2.html\")\n",
    "\n",
    "times = grandcentral_weekdays_bytime['TimeBucketIndex'].tolist()\n",
    "timeperiods = dict([(0,'12am - 4am'), (1,'4am - 8am'), (2,'8am - 12pm'), \\\n",
    "                    (3,'12pm - 4pm'), (4,'4pm - 8pm'), (5,'8pm - 12am')])\n",
    "\n",
    "p = figure(plot_height=600, plot_width=1000, title=\"Traffic Volume at Grand Central By Time of Day\",\n",
    "           toolbar_location=None, tools=\"\")\n",
    "\n",
    "\n",
    "p.line(x=times, y=grandcentral_weekdays_bytime['Combined_Traffic'], line_width=4, color='green')\n",
    "\n",
    "p.xgrid.grid_line_color = None\n",
    "p.y_range.start = 0\n",
    "p.title.text_color='olive'\n",
    "p.title.text_font_size='20pt'\n",
    "p.title.text_font_style='bold'\n",
    "\n",
    "p.xaxis.axis_label='Time of Day'\n",
    "p.xaxis.axis_label_text_color='olive'\n",
    "p.xaxis.axis_label_standoff=20\n",
    "p.xaxis.axis_label_text_font_size='15pt'\n",
    "p.xaxis.major_label_text_font_size='13pt'\n",
    "p.xaxis.major_label_overrides=timeperiods\n",
    "\n",
    "p.yaxis.axis_label='Number of Commuters'\n",
    "p.yaxis.axis_label_text_color='olive'\n",
    "p.yaxis.axis_label_standoff=20\n",
    "p.yaxis.axis_label_text_font_size='15pt'\n",
    "p.yaxis[0].formatter = NumeralTickFormatter(format=\"0.0a\")\n",
    "p.yaxis.major_label_text_font_size='13pt'\n",
    "\n",
    "show(p)"
   ]
  },
  {
   "cell_type": "code",
   "execution_count": 30,
   "metadata": {},
   "outputs": [],
   "source": [
    "grandcentral_turnstile = turnstiles_df[turnstiles_df['STATION'] == 'GRD CNTRL-42 ST']"
   ]
  },
  {
   "cell_type": "code",
   "execution_count": 31,
   "metadata": {},
   "outputs": [],
   "source": [
    "grandcentral_turnstile2 = \\\n",
    "            (grandcentral_turnstile.groupby(['STATION','C/A','daynum','TIME'])[['Combined_Traffic']]\n",
    "             .sum()\n",
    "             .reset_index())   #retains row label"
   ]
  },
  {
   "cell_type": "code",
   "execution_count": 32,
   "metadata": {},
   "outputs": [],
   "source": [
    "grandcentral_turnstile_weekdays = grandcentral_turnstile2[grandcentral_turnstile2['daynum'] != 5]\n",
    "grandcentral_turnstile_weekdays = grandcentral_turnstile_weekdays[grandcentral_turnstile_weekdays['daynum'] != 6]"
   ]
  },
  {
   "cell_type": "code",
   "execution_count": 33,
   "metadata": {},
   "outputs": [],
   "source": [
    "grandcentral_turnstile_wd_bytime = \\\n",
    "            (grandcentral_turnstile_weekdays.groupby(['STATION','C/A','TIME'])[['Combined_Traffic']]\n",
    "             .sum()\n",
    "             .reset_index())   #retains row label"
   ]
  },
  {
   "cell_type": "code",
   "execution_count": 34,
   "metadata": {},
   "outputs": [],
   "source": [
    "grandcentral_turnstile_wd_bytime['TIME'] = pd.to_datetime(grandcentral_turnstile_wd_bytime['TIME'], format='%H:%M:%S').dt.hour\n",
    "\n",
    "grandcentral_turnstile_wd_bytime['TimeBucket'] = pd.cut(grandcentral_turnstile_wd_bytime['TIME'], bins)\n",
    "grandcentral_turnstile_wd_bytime['TimeBucket'] = grandcentral_turnstile_wd_bytime['TimeBucket'].astype(str)\n",
    "\n",
    "grandcentral_turnstile_wd_bytime = pd.merge(grandcentral_turnstile_wd_bytime,timebucketindex,on='TimeBucket')"
   ]
  },
  {
   "cell_type": "code",
   "execution_count": 35,
   "metadata": {},
   "outputs": [],
   "source": [
    "test = grandcentral_turnstile_wd_bytime.drop(columns=['STATION', 'TIME', 'TimeBucket'])\n",
    "\n",
    "test['TimeBucketIndex'] = test['TimeBucketIndex'].astype(str)\n",
    "\n",
    "timeperiods2 = dict([('0','12am - 4am'), ('1','4am - 8am'), ('2','8am - 12pm'), \\\n",
    "                    ('3','12pm - 4pm'), ('4','4pm - 8pm'), ('5','8pm - 12am')])\n",
    "\n",
    "test = test.replace({'TimeBucketIndex': timeperiods2})"
   ]
  },
  {
   "cell_type": "code",
   "execution_count": 36,
   "metadata": {},
   "outputs": [],
   "source": [
    "df = test.pivot_table(index='C/A', columns='TimeBucketIndex', values='Combined_Traffic')\n",
    "\n",
    "df2 = pd.DataFrame(df.stack(), columns=['Traffic']).reset_index()\n",
    "\n",
    "cols = df.columns.tolist()\n",
    "cols = [cols[0]] + [cols[2]] + [cols[4]] + [cols[1]] + [cols[3]] + [cols[5]]\n",
    "df = df[cols]"
   ]
  },
  {
   "cell_type": "code",
   "execution_count": 37,
   "metadata": {},
   "outputs": [],
   "source": [
    "from bokeh.models import BasicTicker, ColorBar, ColumnDataSource, LinearColorMapper, PrintfTickFormatter\n",
    "from bokeh.transform import transform\n",
    "\n",
    "#df = test.pivot_table(index='C/A', columns='TimeBucketIndex', values='Combined_Traffic')\n",
    "\n",
    "source = ColumnDataSource(test)\n",
    "\n",
    "# this is the colormap from the original NYTimes plot\n",
    "colors = [\"#75968f\", \"#a5bab7\", \"#c9d9d3\", \"#e2e2e2\", \"#dfccce\", \"#ddb7b1\", \"#cc7878\", \"#933b41\", \"#550b1d\"]\n",
    "mapper = LinearColorMapper(palette=colors, low=test.Combined_Traffic.min(), high=test.Combined_Traffic.max())\n",
    "\n",
    "timeperiods = dict([('0','12am - 4am'), ('1','4am - 8am'), ('2','8am - 12pm'), \\\n",
    "                    ('3','12pm - 4pm'), ('4','4pm - 8pm'), ('5','8pm - 12am')])\n",
    "\n",
    "p = figure(plot_width=1000, plot_height=600, title=\"Traffic Volume at Grand Central By Time of Day By C/A\",\n",
    "           x_range=list(df.index), y_range=list(df.columns),\n",
    "           toolbar_location=None, tools=\"\", x_axis_location=\"above\")\n",
    "\n",
    "p.rect(x=\"C/A\", y=\"TimeBucketIndex\", width=1, height=1, source=source,\n",
    "       line_color=None, fill_color=transform('Combined_Traffic', mapper))\n",
    "\n",
    "color_bar = ColorBar(color_mapper=mapper, location=(0, 0),\n",
    "                     ticker=BasicTicker(desired_num_ticks=len(colors)),\n",
    "                     label_standoff=12,\n",
    "                     formatter=NumeralTickFormatter(format=\"0.0a\"))\n",
    "\n",
    "p.add_layout(color_bar, 'right')\n",
    "\n",
    "p.axis.axis_line_color = None\n",
    "p.axis.major_tick_line_color = None\n",
    "p.axis.major_label_text_font_size = \"13pt\"\n",
    "p.axis.major_label_standoff = 0\n",
    "#p.xaxis.major_label_orientation = 1.0\n",
    "p.yaxis.major_label_overrides = timeperiods2\n",
    "p.yaxis.axis_label='Time of Day'\n",
    "p.yaxis.axis_label_text_font_size='15pt'\n",
    "p.xaxis.axis_label='C/A'\n",
    "p.xaxis.axis_label_text_font_size='15pt'\n",
    "p.title.text_font_size='20pt'\n",
    "\n",
    "show(p)"
   ]
  },
  {
   "cell_type": "code",
   "execution_count": null,
   "metadata": {},
   "outputs": [],
   "source": []
  }
 ],
 "metadata": {
  "kernelspec": {
   "display_name": "Python 3",
   "language": "python",
   "name": "python3"
  },
  "language_info": {
   "codemirror_mode": {
    "name": "ipython",
    "version": 3
   },
   "file_extension": ".py",
   "mimetype": "text/x-python",
   "name": "python",
   "nbconvert_exporter": "python",
   "pygments_lexer": "ipython3",
   "version": "3.5.5"
  }
 },
 "nbformat": 4,
 "nbformat_minor": 2
}
